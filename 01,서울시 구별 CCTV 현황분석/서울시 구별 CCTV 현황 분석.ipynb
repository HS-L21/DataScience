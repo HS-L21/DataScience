import os
print(os.getcwd())
import warnings
warnings.filterwarnings(action='ignore')
import pandas as pd
import numpy as np
